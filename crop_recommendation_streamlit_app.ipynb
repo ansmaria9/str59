{
 "cells": [
  {
   "cell_type": "code",
   "execution_count": 1,
   "metadata": {},
   "outputs": [
    {
     "ename": "FileNotFoundError",
     "evalue": "[Errno 2] No such file or directory: 'classifier2.pkl'",
     "output_type": "error",
     "traceback": [
      "\u001b[1;31m---------------------------------------------------------------------------\u001b[0m",
      "\u001b[1;31mFileNotFoundError\u001b[0m                         Traceback (most recent call last)",
      "\u001b[1;32m<ipython-input-1-eca7d10cd13d>\u001b[0m in \u001b[0;36m<module>\u001b[1;34m\u001b[0m\n\u001b[0;32m      5\u001b[0m \u001b[1;32mimport\u001b[0m \u001b[0mmatplotlib\u001b[0m\u001b[1;33m.\u001b[0m\u001b[0mpyplot\u001b[0m \u001b[1;32mas\u001b[0m \u001b[0mplt\u001b[0m\u001b[1;33m\u001b[0m\u001b[1;33m\u001b[0m\u001b[0m\n\u001b[0;32m      6\u001b[0m \u001b[1;33m\u001b[0m\u001b[0m\n\u001b[1;32m----> 7\u001b[1;33m \u001b[0mmodel\u001b[0m \u001b[1;33m=\u001b[0m \u001b[0mpickle\u001b[0m\u001b[1;33m.\u001b[0m\u001b[0mload\u001b[0m\u001b[1;33m(\u001b[0m\u001b[0mopen\u001b[0m\u001b[1;33m(\u001b[0m\u001b[1;34m'classifier2.pkl'\u001b[0m\u001b[1;33m,\u001b[0m\u001b[1;34m'rb'\u001b[0m\u001b[1;33m)\u001b[0m\u001b[1;33m)\u001b[0m\u001b[1;33m\u001b[0m\u001b[1;33m\u001b[0m\u001b[0m\n\u001b[0m\u001b[0;32m      8\u001b[0m \u001b[1;33m\u001b[0m\u001b[0m\n\u001b[0;32m      9\u001b[0m \u001b[0mb\u001b[0m \u001b[1;33m=\u001b[0m \u001b[1;33m[\u001b[0m\u001b[1;36m0\u001b[0m\u001b[1;33m,\u001b[0m\u001b[1;36m1\u001b[0m\u001b[1;33m,\u001b[0m\u001b[1;36m2\u001b[0m\u001b[1;33m,\u001b[0m\u001b[1;36m3\u001b[0m\u001b[1;33m,\u001b[0m\u001b[1;36m4\u001b[0m\u001b[1;33m,\u001b[0m\u001b[1;36m5\u001b[0m\u001b[1;33m,\u001b[0m\u001b[1;36m6\u001b[0m\u001b[1;33m,\u001b[0m\u001b[1;36m7\u001b[0m\u001b[1;33m,\u001b[0m\u001b[1;36m8\u001b[0m\u001b[1;33m,\u001b[0m\u001b[1;36m9\u001b[0m\u001b[1;33m,\u001b[0m\u001b[1;36m10\u001b[0m\u001b[1;33m,\u001b[0m\u001b[1;36m11\u001b[0m\u001b[1;33m,\u001b[0m\u001b[1;36m12\u001b[0m\u001b[1;33m,\u001b[0m\u001b[1;36m13\u001b[0m\u001b[1;33m,\u001b[0m\u001b[1;36m14\u001b[0m\u001b[1;33m,\u001b[0m\u001b[1;36m15\u001b[0m\u001b[1;33m,\u001b[0m\u001b[1;36m16\u001b[0m\u001b[1;33m,\u001b[0m\u001b[1;36m17\u001b[0m\u001b[1;33m,\u001b[0m\u001b[1;36m18\u001b[0m\u001b[1;33m,\u001b[0m\u001b[1;36m19\u001b[0m\u001b[1;33m,\u001b[0m\u001b[1;36m20\u001b[0m\u001b[1;33m,\u001b[0m\u001b[1;36m21\u001b[0m\u001b[1;33m]\u001b[0m\u001b[1;33m\u001b[0m\u001b[1;33m\u001b[0m\u001b[0m\n",
      "\u001b[1;31mFileNotFoundError\u001b[0m: [Errno 2] No such file or directory: 'classifier2.pkl'"
     ]
    }
   ],
   "source": [
    "import pandas as pd\n",
    "import streamlit as st\n",
    "import numpy as np\n",
    "import pickle\n",
    "import matplotlib.pyplot as plt\n",
    "\n",
    "model = pickle.load(open('classifier2.pkl','rb'))\n",
    "\n",
    "b = [0,1,2,3,4,5,6,7,8,9,10,11,12,13,14,15,16,17,18,19,20,21]\n",
    "\n",
    "a = ['Apple','Banana','blackgram','chickpea','coconut','coffee',\n",
    "     'cotton','grapes','jute','kidney beans','lentil','maize','mango',\n",
    "     'moth beans','mung bean','muskmelon','orange','papaya','pigeonpeas',\n",
    "     'pomegranate','Rice','Watermelon']\n",
    "\n",
    "a = pd.DataFrame(a,columns=['label'])\n",
    "b = pd.DataFrame(b,columns=['encoded'])\n",
    "classes = pd.concat([a,b],axis=1).sort_values('encoded').set_index('label')\n",
    "\n",
    "\n",
    "\n",
    "def predict(n,p,k,temp,humi,ph,rain):\n",
    "    data=[[n,p,k,temp,humi,ph,rain]]\n",
    "    pred = model.predict(data)\n",
    "    \n",
    "    #fetching the label for given encoded value\n",
    "    for i in range(0,len(classes)):\n",
    "        if(classes.encoded[i]==pred):\n",
    "            output = classes.index[i].upper()\n",
    "    return output\n",
    "\n",
    "def predict_proba(n,p,k,temp,humi,ph,rain):\n",
    "    data=[[n,p,k,temp,humi,ph,rain]]\n",
    "    pred = model.predict_proba(data)\n",
    "    pred = pd.DataFrame(data = np.round(pred.T*100,2), index=classes.index,columns=['predicted_values'])\n",
    "    high = pred.predicted_values.nlargest(5)\n",
    "    return high\n",
    "\n",
    "\n",
    "def main():\n",
    "    b1, titl, b2 = st.beta_columns([1,5,1])\n",
    "    titl.title('Crop Recommendation')\n",
    "    st.sidebar.header('Enter the details')\n",
    "    n = st.sidebar.number_input('Nitrogen(N) value in soil',value=1)\n",
    "    p = st.sidebar.number_input('Phosphorous(P) value in soil',value=1)\n",
    "    k = st.sidebar.number_input('Potassium(K) value in soil',value=1)\n",
    "    temp = st.sidebar.number_input('Temperature in degree censius',value=1.0)\n",
    "    ph = st.sidebar.number_input('PH value',value=1.0)\n",
    "    humi = st.sidebar.number_input('Humidity in %',value=1)\n",
    "    rain = st.sidebar.number_input('Rain Fall in mm',value=1.0)\n",
    "    \n",
    "\n",
    "    if st.button('Predict'):\n",
    "        prediction = predict(n,p,k,temp,humi,ph,rain)\n",
    "        b5, res, b6 = st.beta_columns([1,5,1])\n",
    "        res.header('Recommended Crop : {}'.format(prediction))\n",
    "\n",
    "    if st.checkbox('Charts'):\n",
    "        b3, res, b4 = st.beta_columns([1,5,1])\n",
    "        st.header('Top 5 recommended Crops')\n",
    "        pred1 = predict_proba(n,p,k,temp,humi,ph,rain)\n",
    "        fig, axes = plt.subplots()\n",
    "        axes.pie(x=pred1,autopct='%1.1f%%',labels=pred1.index,explode=(0.1, 0, 0, 0, 0),shadow=True,startangle=90)\n",
    "        st.pyplot(fig)\n",
    "        \n",
    "if __name__=='__main__':\n",
    "    main()\n"
   ]
  }
 ],
 "metadata": {
  "kernelspec": {
   "display_name": "Python 3",
   "language": "python",
   "name": "python3"
  },
  "language_info": {
   "codemirror_mode": {
    "name": "ipython",
    "version": 3
   },
   "file_extension": ".py",
   "mimetype": "text/x-python",
   "name": "python",
   "nbconvert_exporter": "python",
   "pygments_lexer": "ipython3",
   "version": "3.8.5"
  },
  "toc": {
   "base_numbering": 1,
   "nav_menu": {},
   "number_sections": false,
   "sideBar": true,
   "skip_h1_title": false,
   "title_cell": "Table of Contents",
   "title_sidebar": "Contents",
   "toc_cell": false,
   "toc_position": {},
   "toc_section_display": true,
   "toc_window_display": true
  }
 },
 "nbformat": 4,
 "nbformat_minor": 4
}
